{
 "cells": [
  {
   "cell_type": "markdown",
   "metadata": {},
   "source": [
    "# Datasets_and_benchmarks Group\n",
    "### Collect existing datasets and benchmarks:\n",
    "- Images Classification: MNIST,CIFAR,ImageNet\n",
    "- Image Segmentation: VOC2012-2014\n",
    "- Videos data: Kinetics 400, UCF101\n",
    "- Neural data: NLB, Sensorium, MTNeuro, TUH, HCP\n",
    "\n",
    "### Steps to pre-process data:\n",
    "- Data cleaning: Clean and remove any inconsistent or missing data\n",
    "- Data normalization: Normalize the data so that all features have the same scale and units.\n",
    "- Feature extraction: Extract meaningful features from the raw data\n",
    "- Data augmentation\n",
    "- Data splitting: Split the data into training, validation, and test sets\n",
    "\n",
    "### Publish new datasets and benchmarks: (NeurIPS guidelines)\n",
    "- Formatting: data format and read/write tools\n",
    "- Documentation: instructions to use the data and associated tools\n",
    "- Maintenance: how the datasets are archived and updated over time\n",
    "- Ethics: biases in the data, personal identifiable information within the data\n",
    "- Licensing: how the data can be distributed for research/commercial purposes\n"
   ]
  },
  {
   "cell_type": "code",
   "execution_count": null,
   "metadata": {},
   "outputs": [],
   "source": [
    "## import all packages here\n",
    "import matplotlib.pyplot as plt\n",
    "import numpy as np\n",
    "import torch\n",
    "import torch.nn as nn\n",
    "import torch.optim as optim\n",
    "import torchvision.datasets as datasets\n",
    "import torchvision.transforms as transforms"
   ]
  },
  {
   "cell_type": "code",
   "execution_count": 2,
   "metadata": {},
   "outputs": [
    {
     "ename": "SyntaxError",
     "evalue": "unexpected EOF while parsing (3828278020.py, line 4)",
     "output_type": "error",
     "traceback": [
      "\u001b[0;36m  File \u001b[0;32m\"/tmp/ipykernel_63017/3828278020.py\"\u001b[0;36m, line \u001b[0;32m4\u001b[0m\n\u001b[0;31m    \u001b[0m\n\u001b[0m    ^\u001b[0m\n\u001b[0;31mSyntaxError\u001b[0m\u001b[0;31m:\u001b[0m unexpected EOF while parsing\n"
     ]
    }
   ],
   "source": [
    "class load_data:\n",
    "     def __init__(self, data_name, categray):\n",
    "            ## TODO\n",
    "    "
   ]
  },
  {
   "cell_type": "code",
   "execution_count": null,
   "metadata": {},
   "outputs": [],
   "source": [
    "class pre_process:\n",
    "    def __init__(self, data_name, pre_process_list):\n",
    "    \n",
    "    def pre_process_function():\n",
    "        \"reseize, crop, normalize, or augment images\"\n",
    "        ## Todo\n",
    "        return None\n",
    "    "
   ]
  }
 ],
 "metadata": {
  "kernelspec": {
   "display_name": "cse_577",
   "language": "python",
   "name": "cse_577"
  },
  "language_info": {
   "codemirror_mode": {
    "name": "ipython",
    "version": 3
   },
   "file_extension": ".py",
   "mimetype": "text/x-python",
   "name": "python",
   "nbconvert_exporter": "python",
   "pygments_lexer": "ipython3",
   "version": "3.8.12"
  }
 },
 "nbformat": 4,
 "nbformat_minor": 4
}
